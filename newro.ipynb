{
  "cells": [
    {
      "cell_type": "code",
      "source": [
        "import torch\n",
        "import torch.nn as nn\n",
        "import torch.optim as optim\n",
        "from torch.utils.data import DataLoader, TensorDataset\n",
        "import numpy as np\n",
        "\n"
      ],
      "metadata": {
        "id": "e7Fr_pb-nuec"
      },
      "execution_count": 22,
      "outputs": []
    },
    {
      "cell_type": "code",
      "source": [
        "# Данные\n",
        "data = {\n",
        "    'number_of_passanger': [0, 1, 2, 3, 4, 5, 6, 7, 8, 9],\n",
        "    'number_of_flight': [10, 5, 3, 1, 3, 15, 5, 3, 1, 3],\n",
        "    'number_of_cancel': [1, 2, 3, 0, 0, 1, 1, 2, 1, 0],\n",
        "    'target': [0, 0, 1, 0, 0, 0, 0, 1, 1, 0]\n",
        "}\n",
        "\n",
        "# Преобразуем данные в тензоры\n",
        "X = torch.tensor([\n",
        "    data['number_of_flight'],\n",
        "    data['number_of_cancel']\n",
        "], dtype=torch.float32).T  # Транспонируем для формата (samples, features)\n",
        "y = torch.tensor(data['target'], dtype=torch.float32).view(-1, 1)  # (samples, 1)\n",
        "\n",
        "# Создаем датасет и загрузчик\n",
        "train_dataset = TensorDataset(X, y)\n",
        "train_loader = DataLoader(train_dataset, batch_size=2, shuffle=True)\n",
        "\n",
        "# Определение нейросети\n",
        "class FlightCancelPredictor(nn.Module):\n",
        "    def __init__(self):\n",
        "        super(FlightCancelPredictor, self).__init__()\n",
        "        self.model = nn.Sequential(\n",
        "            nn.Linear(2, 8),\n",
        "            nn.ReLU(),\n",
        "            nn.Linear(8, 4),\n",
        "            nn.ReLU(),\n",
        "            nn.Linear(4, 1),\n",
        "            nn.Sigmoid()\n",
        "        )\n",
        "\n",
        "    def forward(self, x):\n",
        "        return self.model(x)\n",
        "\n",
        "# Создание модели\n",
        "model = FlightCancelPredictor()\n",
        "\n",
        "# Оптимизатор и функция потерь\n",
        "criterion = nn.BCELoss()  # Бинарная кроссэнтропия для задачи классификации\n",
        "optimizer = optim.Adam(model.parameters(), lr=0.01)\n",
        "\n"
      ],
      "metadata": {
        "id": "OYTF-YhFnyGs"
      },
      "execution_count": 26,
      "outputs": []
    },
    {
      "cell_type": "code",
      "source": [
        "# Обучение модели\n",
        "epochs = 1000\n",
        "for epoch in range(epochs):\n",
        "    for batch_X, batch_y in train_loader:\n",
        "        optimizer.zero_grad()\n",
        "        outputs = model(batch_X)\n",
        "        loss = criterion(outputs, batch_y)\n",
        "        loss.backward()\n",
        "        optimizer.step()\n",
        "\n",
        "    if (epoch + 1) % 10 == 0:\n",
        "        print(f'Epoch [{epoch+1}/{epochs}], Loss: {loss.item():.4f}')\n",
        "\n"
      ],
      "metadata": {
        "id": "WldoznU7n0VC",
        "outputId": "1b0a3519-bb4a-4324-ca23-c4187806ab40",
        "colab": {
          "base_uri": "https://localhost:8080/"
        }
      },
      "execution_count": 34,
      "outputs": [
        {
          "output_type": "stream",
          "name": "stdout",
          "text": [
            "Epoch [10/1000], Loss: 0.0000\n",
            "Epoch [20/1000], Loss: 0.0015\n",
            "Epoch [30/1000], Loss: 0.0049\n",
            "Epoch [40/1000], Loss: 0.0000\n",
            "Epoch [50/1000], Loss: 0.0014\n",
            "Epoch [60/1000], Loss: 0.0000\n",
            "Epoch [70/1000], Loss: 0.0006\n",
            "Epoch [80/1000], Loss: 0.0009\n",
            "Epoch [90/1000], Loss: 0.0008\n",
            "Epoch [100/1000], Loss: 0.0000\n",
            "Epoch [110/1000], Loss: 0.0000\n",
            "Epoch [120/1000], Loss: 0.0000\n",
            "Epoch [130/1000], Loss: 0.0006\n",
            "Epoch [140/1000], Loss: 0.0000\n",
            "Epoch [150/1000], Loss: 0.0000\n",
            "Epoch [160/1000], Loss: 0.0000\n",
            "Epoch [170/1000], Loss: 0.0002\n",
            "Epoch [180/1000], Loss: 0.0000\n",
            "Epoch [190/1000], Loss: 0.0002\n",
            "Epoch [200/1000], Loss: 0.0000\n",
            "Epoch [210/1000], Loss: 0.0000\n",
            "Epoch [220/1000], Loss: 0.0003\n",
            "Epoch [230/1000], Loss: 0.0004\n",
            "Epoch [240/1000], Loss: 0.0003\n",
            "Epoch [250/1000], Loss: 0.0000\n",
            "Epoch [260/1000], Loss: 0.0003\n",
            "Epoch [270/1000], Loss: 0.0000\n",
            "Epoch [280/1000], Loss: 0.0000\n",
            "Epoch [290/1000], Loss: 0.0002\n",
            "Epoch [300/1000], Loss: 0.0001\n",
            "Epoch [310/1000], Loss: 0.0001\n",
            "Epoch [320/1000], Loss: 0.0000\n",
            "Epoch [330/1000], Loss: 0.0001\n",
            "Epoch [340/1000], Loss: 0.0000\n",
            "Epoch [350/1000], Loss: 0.0001\n",
            "Epoch [360/1000], Loss: 0.0000\n",
            "Epoch [370/1000], Loss: 0.0001\n",
            "Epoch [380/1000], Loss: 0.0000\n",
            "Epoch [390/1000], Loss: 0.0002\n",
            "Epoch [400/1000], Loss: 0.0002\n",
            "Epoch [410/1000], Loss: 0.0001\n",
            "Epoch [420/1000], Loss: 0.0001\n",
            "Epoch [430/1000], Loss: 0.0000\n",
            "Epoch [440/1000], Loss: 0.0001\n",
            "Epoch [450/1000], Loss: 0.0000\n",
            "Epoch [460/1000], Loss: 0.0000\n",
            "Epoch [470/1000], Loss: 0.0000\n",
            "Epoch [480/1000], Loss: 0.0002\n",
            "Epoch [490/1000], Loss: 0.0000\n",
            "Epoch [500/1000], Loss: 0.0000\n",
            "Epoch [510/1000], Loss: 0.0001\n",
            "Epoch [520/1000], Loss: 0.0001\n",
            "Epoch [530/1000], Loss: 0.0001\n",
            "Epoch [540/1000], Loss: 0.0001\n",
            "Epoch [550/1000], Loss: 0.0000\n",
            "Epoch [560/1000], Loss: 0.0001\n",
            "Epoch [570/1000], Loss: 0.0001\n",
            "Epoch [580/1000], Loss: 0.0000\n",
            "Epoch [590/1000], Loss: 0.0000\n",
            "Epoch [600/1000], Loss: 0.0001\n",
            "Epoch [610/1000], Loss: 0.0000\n",
            "Epoch [620/1000], Loss: 0.0000\n",
            "Epoch [630/1000], Loss: 0.0000\n",
            "Epoch [640/1000], Loss: 0.0000\n",
            "Epoch [650/1000], Loss: 0.0000\n",
            "Epoch [660/1000], Loss: 0.0000\n",
            "Epoch [670/1000], Loss: 0.0000\n",
            "Epoch [680/1000], Loss: 0.0000\n",
            "Epoch [690/1000], Loss: 0.0000\n",
            "Epoch [700/1000], Loss: 0.0000\n",
            "Epoch [710/1000], Loss: 0.0000\n",
            "Epoch [720/1000], Loss: 0.0000\n",
            "Epoch [730/1000], Loss: 0.0000\n",
            "Epoch [740/1000], Loss: 0.0000\n",
            "Epoch [750/1000], Loss: 0.0000\n",
            "Epoch [760/1000], Loss: 0.0000\n",
            "Epoch [770/1000], Loss: 0.0000\n",
            "Epoch [780/1000], Loss: 0.0000\n",
            "Epoch [790/1000], Loss: 0.0000\n",
            "Epoch [800/1000], Loss: 0.0000\n",
            "Epoch [810/1000], Loss: 0.0000\n",
            "Epoch [820/1000], Loss: 0.0000\n",
            "Epoch [830/1000], Loss: 0.0000\n",
            "Epoch [840/1000], Loss: 0.0000\n",
            "Epoch [850/1000], Loss: 0.0000\n",
            "Epoch [860/1000], Loss: 0.0000\n",
            "Epoch [870/1000], Loss: 0.0000\n",
            "Epoch [880/1000], Loss: 0.0000\n",
            "Epoch [890/1000], Loss: 0.0000\n",
            "Epoch [900/1000], Loss: 0.0000\n",
            "Epoch [910/1000], Loss: 0.0000\n",
            "Epoch [920/1000], Loss: 0.0000\n",
            "Epoch [930/1000], Loss: 0.0000\n",
            "Epoch [940/1000], Loss: 0.0000\n",
            "Epoch [950/1000], Loss: 0.0000\n",
            "Epoch [960/1000], Loss: 0.0000\n",
            "Epoch [970/1000], Loss: 0.0000\n",
            "Epoch [980/1000], Loss: 0.0000\n",
            "Epoch [990/1000], Loss: 0.0000\n",
            "Epoch [1000/1000], Loss: 0.0000\n"
          ]
        }
      ]
    },
    {
      "cell_type": "code",
      "source": [
        "# Тест модели\n",
        "examples = [[10, 1], [5, 5], [1, 0], [2, 1], [3, 2]]\n",
        "with torch.no_grad():\n",
        "  for example in examples:\n",
        "      test_sample = torch.tensor([example], dtype=torch.float32)  # пример пассажира\n",
        "      prediction = model(test_sample).item()\n",
        "      print(example, f'Вероятность отказа от билета: {prediction:.2f}')\n"
      ],
      "metadata": {
        "id": "pfd4reuwn2HN",
        "outputId": "a049d527-fb52-48bd-f890-37cff20b4595",
        "colab": {
          "base_uri": "https://localhost:8080/"
        }
      },
      "execution_count": 36,
      "outputs": [
        {
          "output_type": "stream",
          "name": "stdout",
          "text": [
            "[10, 1] Вероятность отказа от билета: 0.00\n",
            "[5, 5] Вероятность отказа от билета: 1.00\n",
            "[1, 0] Вероятность отказа от билета: 0.00\n",
            "[2, 1] Вероятность отказа от билета: 0.56\n",
            "[3, 2] Вероятность отказа от билета: 1.00\n"
          ]
        }
      ]
    },
    {
      "cell_type": "code",
      "source": [
        "\n"
      ],
      "metadata": {
        "id": "GXSl2N0voAL5",
        "outputId": "fc20f9f9-6ec5-49b9-c90e-c6c14117fe64",
        "colab": {
          "base_uri": "https://localhost:8080/"
        }
      },
      "execution_count": 35,
      "outputs": [
        {
          "output_type": "stream",
          "name": "stdout",
          "text": [
            "[10, 1] Вероятность отказа от билета: 0.00\n",
            "[5, 5] Вероятность отказа от билета: 1.00\n",
            "[1, 0] Вероятность отказа от билета: 0.00\n",
            "[2, 1] Вероятность отказа от билета: 0.56\n",
            "[3, 2] Вероятность отказа от билета: 1.00\n"
          ]
        }
      ]
    },
    {
      "cell_type": "code",
      "source": [],
      "metadata": {
        "id": "d6YfJWtZpmgb"
      },
      "execution_count": null,
      "outputs": []
    }
  ],
  "metadata": {
    "language_info": {
      "name": "python"
    },
    "colab": {
      "provenance": []
    },
    "kernelspec": {
      "name": "python3",
      "display_name": "Python 3"
    }
  },
  "nbformat": 4,
  "nbformat_minor": 0
}